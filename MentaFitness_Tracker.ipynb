{
 "cells": [
  {
   "cell_type": "code",
   "execution_count": 1,
   "metadata": {},
   "outputs": [
    {
     "name": "stderr",
     "output_type": "stream",
     "text": [
      "C:\\Users\\91638\\anaconda3\\lib\\site-packages\\sklearn\\preprocessing\\_encoders.py:972: FutureWarning: `sparse` was renamed to `sparse_output` in version 1.2 and will be removed in 1.4. `sparse_output` is ignored unless you leave `sparse` to its default value.\n",
      "  warnings.warn(\n"
     ]
    },
    {
     "name": "stdout",
     "output_type": "stream",
     "text": [
      "Enter your country name: India\n",
      "Enter the year: 2023\n",
      "Enter your Schizophrenia rate in %: 1\n",
      "Enter your Bipolar disorder rate in %: 2\n",
      "Enter your Eating disorder rate in %: 3\n",
      "Enter your Anxiety rate in %: 4\n",
      "Enter your Drug Usage rate in %: 1\n",
      "Enter your Depression rate in %: 2\n",
      "Your Mental Fitness Score is: 79.13%\n"
     ]
    }
   ],
   "source": [
    "from sklearn.ensemble import RandomForestRegressor\n",
    "from sklearn.preprocessing import OneHotEncoder\n",
    "import numpy as np\n",
    "\n",
    "# Training data\n",
    "X_train = [\n",
    "    ['Country A', 2022, 1.2, 3.4, 2.1, 4.5, 0.8, 3.2],\n",
    "    ['Country B', 2022, 0.8, 2.9, 1.5, 3.8, 0.6, 2.7],\n",
    "    ['Country C', 2022, 1.5, 3.1, 1.8, 4.0, 1.0, 2.9],\n",
    "    # Add more training examples as needed\n",
    "]\n",
    "y_train = [78, 85, 73]  # Corresponding mental fitness scores (0-100 scale)\n",
    "\n",
    "# Convert data to numpy arrays\n",
    "X_train = np.array(X_train)\n",
    "y_train = np.array(y_train)\n",
    "\n",
    "# Perform one-hot encoding for categorical variable (country)\n",
    "encoder = OneHotEncoder(sparse=False, handle_unknown='ignore')\n",
    "X_train_encoded = encoder.fit_transform(X_train[:, [0]])  # Only encode the country column\n",
    "X_train = np.concatenate((X_train_encoded, X_train[:, 1:]), axis=1)  # Concatenate encoded features with other columns\n",
    "\n",
    "# Create and train the Random Forest model\n",
    "rf = RandomForestRegressor()\n",
    "rf.fit(X_train, y_train)\n",
    "\n",
    "# User input\n",
    "country = input('Enter your country name: ')\n",
    "year = int(input('Enter the year: '))\n",
    "schi = float(input('Enter your Schizophrenia rate in %: '))\n",
    "bipo_dis = float(input('Enter your Bipolar disorder rate in %: '))\n",
    "eat_dis = float(input('Enter your Eating disorder rate in %: '))\n",
    "anx = float(input('Enter your Anxiety rate in %: '))\n",
    "drug_use = float(input('Enter your Drug Usage rate in %: '))\n",
    "depr = float(input('Enter your Depression rate in %: '))\n",
    "\n",
    "# Perform one-hot encoding for the user input (country)\n",
    "country_encoded = encoder.transform([[country]])\n",
    "input_data = np.concatenate((country_encoded, [[year, schi, bipo_dis, eat_dis, anx, drug_use, depr]]), axis=1)\n",
    "\n",
    "# Perform prediction\n",
    "prediction = rf.predict(input_data)\n",
    "\n",
    "# Display result\n",
    "print('Your Mental Fitness Score is: {:.2f}%'.format(prediction[0]))\n"
   ]
  }
 ],
 "metadata": {
  "kernelspec": {
   "display_name": "Python 3",
   "language": "python",
   "name": "python3"
  },
  "language_info": {
   "codemirror_mode": {
    "name": "ipython",
    "version": 3
   },
   "file_extension": ".py",
   "mimetype": "text/x-python",
   "name": "python",
   "nbconvert_exporter": "python",
   "pygments_lexer": "ipython3",
   "version": "3.8.5"
  }
 },
 "nbformat": 4,
 "nbformat_minor": 4
}
